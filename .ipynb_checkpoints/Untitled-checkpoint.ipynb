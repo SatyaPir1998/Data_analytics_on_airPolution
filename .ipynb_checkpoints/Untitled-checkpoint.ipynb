{
 "cells": [
  {
   "cell_type": "code",
   "execution_count": 1,
   "id": "3090a4c7-b4d4-4e5d-9e11-9cd473fae499",
   "metadata": {},
   "outputs": [],
   "source": [
    "import pandas as pd"
   ]
  },
  {
   "cell_type": "code",
   "execution_count": 6,
   "id": "1c307025-d878-4edb-80b8-3b700c21080b",
   "metadata": {},
   "outputs": [
    {
     "name": "stderr",
     "output_type": "stream",
     "text": [
      "C:\\Users\\SATYAPIR\\AppData\\Local\\Temp\\ipykernel_15292\\681623145.py:1: DtypeWarning: Columns (0) have mixed types. Specify dtype option on import or set low_memory=False.\n",
      "  data_df = pd.read_csv('data.csv', encoding='cp1252') # I've download the data from the link\n"
     ]
    }
   ],
   "source": [
    "data_df = pd.read_csv('data.csv', encoding='cp1252') # I've download the data from the link"
   ]
  },
  {
   "cell_type": "code",
   "execution_count": 8,
   "id": "33acc406-d751-42be-8fb9-ada5697ab336",
   "metadata": {},
   "outputs": [],
   "source": [
    "# Data cleaning section\n",
    "# Converting all the nan values to some other format for future calculation\n",
    "data_df.rspm.fillna(0.0,inplace=True) # convert nan values to float 0.0\n",
    "data_df.spm.fillna(0.0,inplace=True)    # convert nan to float 0.0\n",
    "data_df.pm2_5.fillna(0.0,inplace=True)  # convert nan to float 0.0\n",
    "data_df.date = data_df.date.astype('str')   # convert datatype to str to calculate the year and month\n"
   ]
  },
  {
   "cell_type": "code",
   "execution_count": 9,
   "id": "f4d8c55e-0e45-4721-b764-f223b299eab8",
   "metadata": {},
   "outputs": [],
   "source": [
    "## getting the year value by using the date column and replacing the nan values with 0000\n",
    "\n",
    "data_df['year'] = data_df.date.apply(lambda x: x.split('-')[0] if x != 'nan' else '0000')"
   ]
  },
  {
   "cell_type": "code",
   "execution_count": 10,
   "id": "ab3e96ef-9141-49d4-9032-a79005e32b23",
   "metadata": {},
   "outputs": [],
   "source": [
    "## getting the month value by using the date column and replacing the nan values with 00\n",
    "\n",
    "data_df['month'] = data_df.date.apply(lambda x: x.split('-')[1] if x != 'nan' else '00')"
   ]
  },
  {
   "cell_type": "code",
   "execution_count": 23,
   "id": "23db425c-12a8-43c2-a93b-79ecfe7488f7",
   "metadata": {},
   "outputs": [
    {
     "name": "stdout",
     "output_type": "stream",
     "text": [
      "   year        location         so2         no2       rspm         spm  pm2_5\n",
      "0  2012        Raniganj  126.408333   14.445833  45.187500    0.000000    0.0\n",
      "1  1997          Howrah  123.825000  170.800000   0.000000  378.000000    0.0\n",
      "2  2012  South Suburban  118.842105    8.280702  59.508772    0.000000    0.0\n",
      "3  1993        Gajroula  109.359091   72.531818   0.000000  140.590909    0.0\n",
      "4  1991        Gajroula  105.980000  103.600000   0.000000  461.400000    0.0\n",
      "5  1992          Raipur   92.766667   36.900000   0.000000  144.666667    0.0\n",
      "6  1993          Howrah   88.956250  140.693750   0.000000   18.812500    0.0\n",
      "7  1996      Ankleshwar   87.975000   34.320833   0.000000  183.208333    0.0\n",
      "8  1995      Ankleshwar   87.079167   25.870833   0.000000  328.583333    0.0\n",
      "9  1999         Dhanbad   85.533333   53.708333   0.000000  235.666667    0.0\n"
     ]
    }
   ],
   "source": [
    "########## Top_10_polluted_cities :-\n",
    "\n",
    "cities_polluted = data_df.groupby(['year', 'location'])[['so2','no2','rspm','spm', 'pm2_5']].mean().reset_index()\n",
    "\n",
    "top_10_polluted_cities = cities_polluted.sort_values(by=['so2','no2','rspm','spm', 'pm2_5'], ascending=False).head(10).reset_index(drop=True)\n",
    "print(top_10_polluted_cities)"
   ]
  },
  {
   "cell_type": "code",
   "execution_count": 21,
   "id": "98111c3d-79f1-4017-87c9-4a9119e55334",
   "metadata": {},
   "outputs": [
    {
     "name": "stdout",
     "output_type": "stream",
     "text": [
      "   year        state        so2         no2  rspm         spm  pm2_5\n",
      "0  1995          Goa  81.100000   30.100000   0.0  231.000000    0.0\n",
      "1  1997          Goa  74.800000   26.016667   0.0  125.000000    0.0\n",
      "2  1996          Goa  65.566667   24.308333   0.0  192.833333    0.0\n",
      "3  1993  West Bengal  62.092045   93.290909   0.0   17.704545    0.0\n",
      "4  1998   Puducherry  60.830303   57.839394   0.0  291.575758    0.0\n",
      "5  1997   Puducherry  58.205556   45.105556   0.0  265.305556    0.0\n",
      "6  1998          Goa  55.900000   26.866667   0.0  169.083333    0.0\n",
      "7  1994  West Bengal  53.373810  123.708333   0.0  262.142857    0.0\n",
      "8  1999        Bihar  52.655000   42.566250   0.0  285.062500    0.0\n",
      "9  1995  West Bengal  51.953846  113.887500   0.0  278.730769    0.0\n"
     ]
    }
   ],
   "source": [
    "########## Top_10_polluted_states :-\n",
    "state_polluted = data_df.groupby(['year', 'state'])[['so2','no2','rspm','spm', 'pm2_5']].mean().reset_index()\n",
    "top_10_polluted_states = state_polluted.sort_values(by=['so2','no2','rspm','spm', 'pm2_5'], ascending=False).head(10).reset_index(drop=True)\n",
    "print(top_10_polluted_states)"
   ]
  },
  {
   "cell_type": "code",
   "execution_count": 22,
   "id": "152c4b18-fb3e-494d-a881-40da95d5321a",
   "metadata": {},
   "outputs": [
    {
     "name": "stdout",
     "output_type": "stream",
     "text": [
      "Empty DataFrame\n",
      "Columns: [stn_code, sampling_date, state, location, agency, type, so2, no2, rspm, spm, location_monitoring_station, pm2_5, date, year, month]\n",
      "Index: []\n"
     ]
    }
   ],
   "source": [
    "########## Month wise Air quality od Delhi for the year 2021\n",
    "\n",
    "delhi_2021 = data_df.query(\"location == 'Delhi' and year == '2021'\") # record does not present for the year 2021\n",
    "print(delhi_2021)"
   ]
  },
  {
   "cell_type": "code",
   "execution_count": null,
   "id": "75a163ae-4745-49ce-93ec-9b7b76271a1f",
   "metadata": {},
   "outputs": [],
   "source": []
  }
 ],
 "metadata": {
  "kernelspec": {
   "display_name": "Python 3 (ipykernel)",
   "language": "python",
   "name": "python3"
  },
  "language_info": {
   "codemirror_mode": {
    "name": "ipython",
    "version": 3
   },
   "file_extension": ".py",
   "mimetype": "text/x-python",
   "name": "python",
   "nbconvert_exporter": "python",
   "pygments_lexer": "ipython3",
   "version": "3.11.4"
  }
 },
 "nbformat": 4,
 "nbformat_minor": 5
}
